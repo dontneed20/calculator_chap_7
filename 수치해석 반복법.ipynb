{
  "cells": [
    {
      "cell_type": "markdown",
      "metadata": {
        "id": "view-in-github",
        "colab_type": "text"
      },
      "source": [
        "<a href=\"https://colab.research.google.com/github/dontneed20/calculator_chap_7/blob/master/%EC%88%98%EC%B9%98%ED%95%B4%EC%84%9D%20%EB%B0%98%EB%B3%B5%EB%B2%95.ipynb\" target=\"_parent\"><img src=\"https://colab.research.google.com/assets/colab-badge.svg\" alt=\"Open In Colab\"/></a>"
      ]
    },
    {
      "cell_type": "code",
      "execution_count": 2,
      "metadata": {
        "colab": {
          "base_uri": "https://localhost:8080/",
          "height": 136
        },
        "id": "5CikFHRl3TDH",
        "outputId": "52b1cdbd-6e95-45c1-9898-f482869ab651"
      },
      "outputs": [
        {
          "output_type": "error",
          "ename": "SyntaxError",
          "evalue": "ignored",
          "traceback": [
            "\u001b[0;36m  File \u001b[0;32m\"<ipython-input-2-9b65a24367e5>\"\u001b[0;36m, line \u001b[0;32m23\u001b[0m\n\u001b[0;31m    print(%2d   %1.8f   %1.8f   %1.8f   %1.8f\\n\",%(i+1,a,b,p,fp))\u001b[0m\n\u001b[0m           ^\u001b[0m\n\u001b[0;31mSyntaxError\u001b[0m\u001b[0;31m:\u001b[0m invalid decimal literal\n"
          ]
        }
      ],
      "source": [
        "#이등분법_for문\n",
        "def g(x):\n",
        " return 2*x**3-3*x-x\n",
        "def 이등분법(a,b,N,f)\n",
        "fa=f(a)\n",
        "fb=f(b)\n",
        "tol=0.000001\n",
        " if fa*fb>0:\n",
        "  print(\"wrong interval\")\n",
        " elif abs(fa*fb)<tol:\n",
        "  print(\"case closed\\n\")\n",
        "  print(\"n    a    b    f(a)   f(b)\\n\")\n",
        "  print(\"%d   %1.8f   %1.8f   %1.8f\\n\",%(0,a,b,fa,fb))\n",
        " else:\n",
        "  print(\"n   a_n   b_n   p_n   f(p_n)\\n\")\n",
        "  for i in range(N+1):\n",
        "    p=(a+b)/2.0\n",
        "    fp=my_func(p)\n",
        "    if abs(fp)<tol:\n",
        "      print(\"%2d   %1.8f   %1.8f   %1.8f   %1.8f\\n\",%(i+1,a,b,p.fp))\n",
        "      return\n",
        "    print(\"%2d   %1.8f   %1.8f   %1.8f   %1.8f\\n\",%(i+1,a,b,p,fp))\n",
        "    if fa*fp>0:\n",
        "      a=p\n",
        "    else:\n",
        "      b=p\n",
        "    print(\"이등분법 %d번 반복해도 실패\",%N)\n",
        "  \n",
        "  이등분법(1.0,2.0,100,g)"
      ]
    },
    {
      "cell_type": "code",
      "source": [
        "#이등분법_while문\n",
        "\n",
        "def g(x):\n",
        " return 2*x**3-3*x-3\n",
        "\n",
        "def 이등분법(a,b,N,f):\n",
        " tol=0.000001\n",
        " fa=f(a)\n",
        " fb=f(b)\n",
        " print(\"n   a_n   b_n   p_n   f(p_n) \\n\")\n",
        " while(N<100):\n",
        "  p=(a+b)/2\n",
        "  if(abs(fp)<tol):\n",
        "    print(\"%d   %1.8f   %1.8f   %1.8f   %1.8f\\n\"),%(N,a,b,p,fp)\n",
        "    return\n",
        "  print(\"%d   %1.8f   %1.8f   %1.8f   %1.8f\\n\"),%(N,a,b,p,fp)\n",
        "  N=N+1\n",
        "  if fa*fb>0:\n",
        "    a=p\n",
        "  else:\n",
        "    b=p\n",
        "  \n",
        "  print(\"이등분법 %d번 반복해도 실패\"),%N\n",
        "\n",
        "\n"
      ],
      "metadata": {
        "colab": {
          "base_uri": "https://localhost:8080/",
          "height": 136
        },
        "id": "fIOrV5t0EE-D",
        "outputId": "716b95ed-8ebc-47e7-e31f-2eeba1e4abf5"
      },
      "execution_count": 4,
      "outputs": [
        {
          "output_type": "error",
          "ename": "SyntaxError",
          "evalue": "ignored",
          "traceback": [
            "\u001b[0;36m  File \u001b[0;32m\"<ipython-input-4-04ab7b9e58cb>\"\u001b[0;36m, line \u001b[0;32m4\u001b[0m\n\u001b[0;31m    def 이등분법(a,b,N,f)\u001b[0m\n\u001b[0m                     ^\u001b[0m\n\u001b[0;31mSyntaxError\u001b[0m\u001b[0;31m:\u001b[0m expected ':'\n"
          ]
        }
      ]
    }
  ],
  "metadata": {
    "colab": {
      "provenance": [],
      "authorship_tag": "ABX9TyPejj/s7K7jz8nBEbQ4K8QY",
      "include_colab_link": true
    },
    "gpuClass": "standard",
    "kernelspec": {
      "display_name": "Python 3",
      "name": "python3"
    },
    "language_info": {
      "name": "python"
    }
  },
  "nbformat": 4,
  "nbformat_minor": 0
}